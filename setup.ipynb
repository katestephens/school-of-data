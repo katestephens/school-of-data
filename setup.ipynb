{
 "cells": [
  {
   "cell_type": "code",
   "execution_count": 1,
   "id": "f4447c81-0c69-4cc7-9781-f9b8637282fd",
   "metadata": {},
   "outputs": [
    {
     "name": "stdout",
     "output_type": "stream",
     "text": [
      "Collecting pipreqs\n",
      "  Downloading pipreqs-0.4.11-py2.py3-none-any.whl (32 kB)\n",
      "Collecting yarg\n",
      "  Downloading yarg-0.1.9-py2.py3-none-any.whl (19 kB)\n",
      "Requirement already satisfied: docopt in /opt/conda/lib/python3.8/site-packages (from pipreqs) (0.6.2)\n",
      "Requirement already satisfied: requests in /opt/conda/lib/python3.8/site-packages (from yarg->pipreqs) (2.28.1)\n",
      "Requirement already satisfied: certifi>=2017.4.17 in /opt/conda/lib/python3.8/site-packages (from requests->yarg->pipreqs) (2022.9.14)\n",
      "Requirement already satisfied: urllib3<1.27,>=1.21.1 in /opt/conda/lib/python3.8/site-packages (from requests->yarg->pipreqs) (1.26.11)\n",
      "Requirement already satisfied: idna<4,>=2.5 in /opt/conda/lib/python3.8/site-packages (from requests->yarg->pipreqs) (3.3)\n",
      "Requirement already satisfied: charset-normalizer<3,>=2 in /opt/conda/lib/python3.8/site-packages (from requests->yarg->pipreqs) (2.0.4)\n",
      "Installing collected packages: yarg, pipreqs\n",
      "Successfully installed pipreqs-0.4.11 yarg-0.1.9\n",
      "\u001b[33mWARNING: Running pip as the 'root' user can result in broken permissions and conflicting behaviour with the system package manager. It is recommended to use a virtual environment instead: https://pip.pypa.io/warnings/venv\u001b[0m\u001b[33m\n",
      "\u001b[0mRequirement already satisfied: nbconvert in /opt/conda/lib/python3.8/site-packages (7.0.0)\n",
      "Requirement already satisfied: jinja2>=3.0 in /opt/conda/lib/python3.8/site-packages (from nbconvert) (3.1.2)\n",
      "Requirement already satisfied: beautifulsoup4 in /opt/conda/lib/python3.8/site-packages (from nbconvert) (4.11.1)\n",
      "Requirement already satisfied: mistune<3,>=2.0.3 in /opt/conda/lib/python3.8/site-packages (from nbconvert) (2.0.4)\n",
      "Requirement already satisfied: bleach in /opt/conda/lib/python3.8/site-packages (from nbconvert) (5.0.1)\n",
      "Requirement already satisfied: defusedxml in /opt/conda/lib/python3.8/site-packages (from nbconvert) (0.7.1)\n",
      "Requirement already satisfied: nbclient>=0.5.0 in /opt/conda/lib/python3.8/site-packages (from nbconvert) (0.6.8)\n",
      "Requirement already satisfied: jupyter-core>=4.7 in /opt/conda/lib/python3.8/site-packages (from nbconvert) (4.11.1)\n",
      "Requirement already satisfied: tinycss2 in /opt/conda/lib/python3.8/site-packages (from nbconvert) (1.1.1)\n",
      "Requirement already satisfied: traitlets>=5.0 in /opt/conda/lib/python3.8/site-packages (from nbconvert) (5.4.0)\n",
      "Requirement already satisfied: markupsafe>=2.0 in /opt/conda/lib/python3.8/site-packages (from nbconvert) (2.1.1)\n",
      "Requirement already satisfied: pandocfilters>=1.4.1 in /opt/conda/lib/python3.8/site-packages (from nbconvert) (1.5.0)\n",
      "Requirement already satisfied: packaging in /opt/conda/lib/python3.8/site-packages (from nbconvert) (21.3)\n",
      "Requirement already satisfied: nbformat>=5.1 in /opt/conda/lib/python3.8/site-packages (from nbconvert) (5.5.0)\n",
      "Requirement already satisfied: pygments>=2.4.1 in /opt/conda/lib/python3.8/site-packages (from nbconvert) (2.13.0)\n",
      "Requirement already satisfied: lxml in /opt/conda/lib/python3.8/site-packages (from nbconvert) (4.9.1)\n",
      "Requirement already satisfied: jupyterlab-pygments in /opt/conda/lib/python3.8/site-packages (from nbconvert) (0.2.2)\n",
      "Requirement already satisfied: importlib-metadata>=3.6 in /opt/conda/lib/python3.8/site-packages (from nbconvert) (4.12.0)\n",
      "Requirement already satisfied: zipp>=0.5 in /opt/conda/lib/python3.8/site-packages (from importlib-metadata>=3.6->nbconvert) (3.8.1)\n",
      "Requirement already satisfied: jupyter-client>=6.1.5 in /opt/conda/lib/python3.8/site-packages (from nbclient>=0.5.0->nbconvert) (7.3.5)\n",
      "Requirement already satisfied: nest-asyncio in /opt/conda/lib/python3.8/site-packages (from nbclient>=0.5.0->nbconvert) (1.5.5)\n",
      "Requirement already satisfied: fastjsonschema in /opt/conda/lib/python3.8/site-packages (from nbformat>=5.1->nbconvert) (2.16.2)\n",
      "Requirement already satisfied: jsonschema>=2.6 in /opt/conda/lib/python3.8/site-packages (from nbformat>=5.1->nbconvert) (3.2.0)\n",
      "Requirement already satisfied: soupsieve>1.2 in /opt/conda/lib/python3.8/site-packages (from beautifulsoup4->nbconvert) (2.3.2.post1)\n",
      "Requirement already satisfied: webencodings in /opt/conda/lib/python3.8/site-packages (from bleach->nbconvert) (0.5.1)\n",
      "Requirement already satisfied: six>=1.9.0 in /opt/conda/lib/python3.8/site-packages (from bleach->nbconvert) (1.16.0)\n",
      "Requirement already satisfied: pyparsing!=3.0.5,>=2.0.2 in /opt/conda/lib/python3.8/site-packages (from packaging->nbconvert) (3.0.9)\n",
      "Requirement already satisfied: setuptools in /opt/conda/lib/python3.8/site-packages (from jsonschema>=2.6->nbformat>=5.1->nbconvert) (63.4.1)\n",
      "Requirement already satisfied: pyrsistent>=0.14.0 in /opt/conda/lib/python3.8/site-packages (from jsonschema>=2.6->nbformat>=5.1->nbconvert) (0.18.1)\n",
      "Requirement already satisfied: attrs>=17.4.0 in /opt/conda/lib/python3.8/site-packages (from jsonschema>=2.6->nbformat>=5.1->nbconvert) (22.1.0)\n",
      "Requirement already satisfied: entrypoints in /opt/conda/lib/python3.8/site-packages (from jupyter-client>=6.1.5->nbclient>=0.5.0->nbconvert) (0.4)\n",
      "Requirement already satisfied: python-dateutil>=2.8.2 in /opt/conda/lib/python3.8/site-packages (from jupyter-client>=6.1.5->nbclient>=0.5.0->nbconvert) (2.8.2)\n",
      "Requirement already satisfied: tornado>=6.2 in /opt/conda/lib/python3.8/site-packages (from jupyter-client>=6.1.5->nbclient>=0.5.0->nbconvert) (6.2)\n",
      "Requirement already satisfied: pyzmq>=23.0 in /opt/conda/lib/python3.8/site-packages (from jupyter-client>=6.1.5->nbclient>=0.5.0->nbconvert) (24.0.0)\n",
      "\u001b[33mWARNING: Running pip as the 'root' user can result in broken permissions and conflicting behaviour with the system package manager. It is recommended to use a virtual environment instead: https://pip.pypa.io/warnings/venv\u001b[0m\u001b[33m\n",
      "\u001b[0m"
     ]
    }
   ],
   "source": [
    "!pip install pipreqs && pip install nbconvert"
   ]
  },
  {
   "cell_type": "code",
   "execution_count": 6,
   "id": "92be52e4-04e7-4b9c-a189-2ae84cfdcfd0",
   "metadata": {},
   "outputs": [
    {
     "name": "stdout",
     "output_type": "stream",
     "text": [
      "[NbConvertApp] Converting notebook ./bounding-box-model.ipynb to script\n",
      "[NbConvertApp] Writing 19850 bytes to reqs/bounding-box-model.py\n",
      "INFO: Successfully saved requirements file in /run/determined/workdir/shared_fs/det_share/users/kate/determined-examples/tutorials/object_detection_bounding_box/reqs/requirements.txt\n"
     ]
    }
   ],
   "source": [
    "!jupyter nbconvert --output-dir=\"./reqs\" --to script ./bounding-box-model.ipynb\n",
    "!cd ./reqs && pipreqs"
   ]
  },
  {
   "cell_type": "code",
   "execution_count": 7,
   "id": "32afc8e9-9256-4d38-93cf-9a6d5db7a0d8",
   "metadata": {},
   "outputs": [
    {
     "name": "stdout",
     "output_type": "stream",
     "text": [
      "keras==2.8.0\n",
      "matplotlib==3.6.0\n",
      "numpy==1.23.3\n",
      "pandas==1.5.0\n",
      "Pillow==9.3.0\n",
      "scikit_learn==1.1.3\n",
      "scipy==1.9.1\n",
      "tqdm==4.64.0\n"
     ]
    }
   ],
   "source": [
    "!cat ./reqs/requirements.txt"
   ]
  },
  {
   "cell_type": "code",
   "execution_count": 10,
   "id": "8bb2601e-3869-4871-816a-db9db8f97e26",
   "metadata": {},
   "outputs": [
    {
     "name": "stdout",
     "output_type": "stream",
     "text": [
      "/run/determined/workdir/shared_fs/det_share/users/kate/determined-examples/tutorials/object_detection_bounding_box\n"
     ]
    }
   ],
   "source": [
    "!pwd"
   ]
  },
  {
   "cell_type": "code",
   "execution_count": null,
   "id": "dff70bcc-6389-43dd-a019-63cb47442090",
   "metadata": {},
   "outputs": [],
   "source": []
  }
 ],
 "metadata": {
  "kernelspec": {
   "display_name": "Python 3 (ipykernel)",
   "language": "python",
   "name": "python3"
  },
  "language_info": {
   "codemirror_mode": {
    "name": "ipython",
    "version": 3
   },
   "file_extension": ".py",
   "mimetype": "text/x-python",
   "name": "python",
   "nbconvert_exporter": "python",
   "pygments_lexer": "ipython3",
   "version": "3.8.13"
  }
 },
 "nbformat": 4,
 "nbformat_minor": 5
}
